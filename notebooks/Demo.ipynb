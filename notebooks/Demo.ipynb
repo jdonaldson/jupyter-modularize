{
 "cells": [
  {
   "cell_type": "markdown",
   "id": "b92ae6d2-a019-4910-b1b6-5b8c711da284",
   "metadata": {},
   "source": [
    "# Jupyter Modularize Demo\n",
    "\n",
    "This shows how to use the jupyter magic to create and reference an ad hoc module created from cell contents."
   ]
  },
  {
   "cell_type": "code",
   "execution_count": 3,
   "id": "4f6f377e-ff90-4e54-81a1-f3db02dc1b28",
   "metadata": {},
   "outputs": [],
   "source": [
    "from jupyter_modularize import modularize, modularize_import\n",
    "import pandas as pd"
   ]
  },
  {
   "cell_type": "markdown",
   "id": "6082c20e-a6bf-4ad3-b2fb-c71c42ef048b",
   "metadata": {},
   "source": [
    "Basic approach is to import the library and use the jupyter cell magic `%%modularize <module_name>`   This creates the module but does not import it yet.  "
   ]
  },
  {
   "cell_type": "code",
   "execution_count": 4,
   "id": "660071a9-495f-4eb1-b887-32225d04c919",
   "metadata": {},
   "outputs": [
    {
     "name": "stdout",
     "output_type": "stream",
     "text": [
      "Cell exported as module: .modularize/my_module.py\n"
     ]
    }
   ],
   "source": [
    "%%modularize my_module\n",
    "import pandas as pd\n",
    "def avg_3wk_spend(spend: pd.Series) -> pd.Series:\n",
    "    \"\"\"Rolling 3 week average spend.\"\"\"\n",
    "    return spend.rolling(3).mean()"
   ]
  },
  {
   "cell_type": "code",
   "execution_count": 5,
   "id": "73d73e19-8c27-45e1-916b-2f5fae84c0f4",
   "metadata": {},
   "outputs": [
    {
     "ename": "NameError",
     "evalue": "name 'my_module' is not defined",
     "output_type": "error",
     "traceback": [
      "\u001b[0;31m---------------------------------------------------------------------------\u001b[0m",
      "\u001b[0;31mNameError\u001b[0m                                 Traceback (most recent call last)",
      "Cell \u001b[0;32mIn[5], line 1\u001b[0m\n\u001b[0;32m----> 1\u001b[0m \u001b[43mmy_module\u001b[49m\n",
      "\u001b[0;31mNameError\u001b[0m: name 'my_module' is not defined"
     ]
    }
   ],
   "source": [
    "my_module"
   ]
  },
  {
   "cell_type": "markdown",
   "id": "a0daf21b-6299-4421-8ab0-5e4c916f5127",
   "metadata": {},
   "source": [
    "To proceed, import the module as normal."
   ]
  },
  {
   "cell_type": "code",
   "execution_count": 6,
   "id": "7cb45381-cbbf-4511-afcb-5a585df761ef",
   "metadata": {},
   "outputs": [],
   "source": [
    "import my_module"
   ]
  },
  {
   "cell_type": "code",
   "execution_count": 7,
   "id": "526b2dfd-6866-4241-b1ca-0b218e0fed9a",
   "metadata": {},
   "outputs": [
    {
     "data": {
      "text/plain": [
       "0           NaN\n",
       "1           NaN\n",
       "2      2.000000\n",
       "3      3.333333\n",
       "4      4.666667\n",
       "5      5.666667\n",
       "6     11.666667\n",
       "7     21.000000\n",
       "8     30.333333\n",
       "9     63.666667\n",
       "10    53.666667\n",
       "11    43.000000\n",
       "dtype: float64"
      ]
     },
     "execution_count": 7,
     "metadata": {},
     "output_type": "execute_result"
    }
   ],
   "source": [
    "spend = pd.Series([1,2,3,5,6,6,23,34,34,123,4,2])\n",
    "my_module.avg_3wk_spend(spend)"
   ]
  },
  {
   "cell_type": "markdown",
   "id": "623831f4-b0c2-4cf8-81ac-e4989a1c0801",
   "metadata": {},
   "source": [
    "If you want to automatically import the module after you modularize it (but which is not recommended in production), you can use `%%modularize_import`"
   ]
  },
  {
   "cell_type": "code",
   "execution_count": 8,
   "id": "b94408a6-28f4-4eed-9168-ca3fcb506f8e",
   "metadata": {},
   "outputs": [
    {
     "name": "stdout",
     "output_type": "stream",
     "text": [
      "Cell exported as module: .modularize/my_module2.py\n",
      "Cell imported as module: my_module2\n"
     ]
    }
   ],
   "source": [
    "%%modularize_import my_module2\n",
    "import pandas as pd\n",
    "def avg_3wk_spend(spend: pd.Series) -> pd.Series:\n",
    "    \"\"\"Rolling 3 week average spend.\"\"\"\n",
    "    return spend.rolling(3).mean()"
   ]
  },
  {
   "cell_type": "code",
   "execution_count": 9,
   "id": "cf10ee9c-33ba-4060-844b-cf9142e17df0",
   "metadata": {},
   "outputs": [
    {
     "data": {
      "text/plain": [
       "0           NaN\n",
       "1           NaN\n",
       "2      2.000000\n",
       "3      3.333333\n",
       "4      4.666667\n",
       "5      5.666667\n",
       "6     11.666667\n",
       "7     21.000000\n",
       "8     30.333333\n",
       "9     63.666667\n",
       "10    53.666667\n",
       "11    43.000000\n",
       "dtype: float64"
      ]
     },
     "execution_count": 9,
     "metadata": {},
     "output_type": "execute_result"
    }
   ],
   "source": [
    "my_module2.avg_3wk_spend(spend)"
   ]
  },
  {
   "cell_type": "code",
   "execution_count": null,
   "id": "2d13174b-b8fd-48d8-9c7a-3033e5ffb924",
   "metadata": {},
   "outputs": [],
   "source": []
  }
 ],
 "metadata": {
  "kernelspec": {
   "display_name": "Python 3 (ipykernel)",
   "language": "python",
   "name": "python3"
  },
  "language_info": {
   "codemirror_mode": {
    "name": "ipython",
    "version": 3
   },
   "file_extension": ".py",
   "mimetype": "text/x-python",
   "name": "python",
   "nbconvert_exporter": "python",
   "pygments_lexer": "ipython3",
   "version": "3.12.4"
  }
 },
 "nbformat": 4,
 "nbformat_minor": 5
}
